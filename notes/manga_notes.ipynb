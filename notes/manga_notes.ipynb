{
 "cells": [
  {
   "cell_type": "code",
   "execution_count": 1,
   "metadata": {},
   "outputs": [],
   "source": [
    "%matplotlib inline"
   ]
  },
  {
   "cell_type": "code",
   "execution_count": 1,
   "metadata": {},
   "outputs": [],
   "source": [
    "import numpy as np\n",
    "import pandas as pd\n",
    "import matplotlib.pyplot as plt\n",
    "import geopandas as gpd"
   ]
  },
  {
   "cell_type": "markdown",
   "metadata": {},
   "source": [
    "# Notes for the ds project "
   ]
  },
  {
   "cell_type": "markdown",
   "metadata": {},
   "source": [
    "### 1. Project name?"
   ]
  },
  {
   "cell_type": "markdown",
   "metadata": {},
   "source": [
    "First, let's define the project scope. In the current scope, we want to analyze the industy between the western and eastern pop culture, and more specifically - the comic books.\n",
    "\n",
    "* Comic books - The West vs. The East\n",
    "* Ink and Pixels: Exploring Comics and Manga through Data\n",
    "* Illustrated Worlds: A Comparative Study of Comics and Manga using Data\n",
    "* From East to West: Data Insights into Manga and Comic Books\n",
    "* Graphic Tales: A Data-Centric Comparison of Comics and Manga"
   ]
  },
  {
   "cell_type": "markdown",
   "metadata": {},
   "source": [
    "In order to decide on the project name, i asked few friends on their oppenions. Each had to rank 3 of the names above\n",
    "* One for 3pts.\n",
    "* One for 2pts.\n",
    "* One for 1pts."
   ]
  },
  {
   "cell_type": "markdown",
   "metadata": {},
   "source": [
    "still waiting for the results."
   ]
  },
  {
   "cell_type": "markdown",
   "metadata": {},
   "source": [
    "### 02. The dataset\n",
    "So, we need to decide which datasets we are going to use. Let's first define what our ideal dataset should contain.\n",
    "* Names - We need the name for the comic book series, that we are going to look at.\n",
    "* Duration - We need to take a look at the length of the series\n",
    "* Interest - The most important aspect.\n",
    "* Price - Still important.\n",
    "* Sales location - We need to plot the data, so we could see where the interest is.\n",
    "* Indie or not - we need to take a look at whether or not the series is part of a big brand as marvel, or is it just a indie one."
   ]
  },
  {
   "cell_type": "markdown",
   "metadata": {},
   "source": [
    "### 03. Covered topics\n",
    "* 1 - Sales. Look at the sales and make a conclusion about the hypothesis \"Is it manga or comic books. Which one is more popular\". Here we will take a brief look at the sales over the years and conclude which is more popular NOW. Manga or comics? Idealy.\n",
    "* 2 - Is it because of a series? Here we will take a look at the hypothesis \"This manga is more popular because of the anime. This comic book is more popular because of the movie.\". We will look at the sales before and after the movie or series release date.\n",
    "* 3 - Geolocation. \"Manga is more popular in Japan. Comics are more popular in USA\". Here we are going to take a look at **where** the series is more popular at. Idealy we will create two heatmaps and compare the results.\n",
    "* 4 - Indie comics vs Doujinshi. - Is self publishing as easy as it sounds and where is the right place for a new comic book artist.\n",
    "* 5 - Biggest publishers. Here we are going to take a look at the publishers behind the comics and the manga."
   ]
  },
  {
   "cell_type": "code",
   "execution_count": 3,
   "metadata": {},
   "outputs": [],
   "source": [
    "data = {\n",
    "    'titles': [\n",
    "        \"Comic books - The West vs. The East\",\n",
    "        \"Ink and Pixels: Exploring Comics and Manga through Data\",\n",
    "        \"Illustrated Worlds: A Comparative Study of Comics and Manga using Data\",\n",
    "        \"From East to West: Data Insights into Manga and Comic Books\",\n",
    "        \"Graphic Tales: A Data-Centric Comparison of Comics and Manga\"\n",
    "    ],\n",
    "    'participants': [\n",
    "        \"chep_92\",\n",
    "        \"ozzy\",\n",
    "        \"crywolfzori\",\n",
    "        \"gfotaku\",\n",
    "        \"presti\",\n",
    "        \"inncharge\",\n",
    "        \"vik-ing\",\n",
    "        \"denyTT\",\n",
    "        \"rinto\"\n",
    "    ],\n",
    "    'results': [\n",
    "        [0, 0, 1, 3, 2], #chep\n",
    "        [1, 2, 0, 0, 3], #ozzy \n",
    "        [], #zori\n",
    "        [0, 3, 0, 1, 2], #gfotaku\n",
    "        [], #presti\n",
    "        [], #inncharge\n",
    "        [3, 0, 1, 0, 2], #vik-ing\n",
    "        [2, 0, 0, 3, 1], #denytt\n",
    "        [0, 1, 3, 2, 0]  #rinto\n",
    "    ]\n",
    "    \n",
    "}"
   ]
  },
  {
   "cell_type": "code",
   "execution_count": 3,
   "metadata": {},
   "outputs": [
    {
     "data": {
      "text/plain": [
       "['naturalearth_cities', 'naturalearth_lowres', 'nybb']"
      ]
     },
     "execution_count": 3,
     "metadata": {},
     "output_type": "execute_result"
    }
   ],
   "source": [
    "gpd.datasets.available"
   ]
  }
 ],
 "metadata": {
  "kernelspec": {
   "display_name": "Python 3 (ipykernel)",
   "language": "python",
   "name": "python3"
  },
  "language_info": {
   "codemirror_mode": {
    "name": "ipython",
    "version": 3
   },
   "file_extension": ".py",
   "mimetype": "text/x-python",
   "name": "python",
   "nbconvert_exporter": "python",
   "pygments_lexer": "ipython3",
   "version": "3.10.9"
  }
 },
 "nbformat": 4,
 "nbformat_minor": 4
}
